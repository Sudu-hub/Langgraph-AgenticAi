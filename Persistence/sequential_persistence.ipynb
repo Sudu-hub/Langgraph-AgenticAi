{
 "cells": [
  {
   "cell_type": "code",
   "execution_count": 24,
   "id": "1798a6d3",
   "metadata": {},
   "outputs": [],
   "source": [
    "from langgraph.graph import StateGraph, START, END\n",
    "from langchain_ollama import ChatOllama\n",
    "from typing import TypedDict\n",
    "from langgraph.checkpoint.memory import InMemorySaver"
   ]
  },
  {
   "cell_type": "code",
   "execution_count": 25,
   "id": "0a357a0d",
   "metadata": {},
   "outputs": [],
   "source": [
    "llm = ChatOllama(model='gemma3:4b')"
   ]
  },
  {
   "cell_type": "code",
   "execution_count": 26,
   "id": "14117a3b",
   "metadata": {},
   "outputs": [],
   "source": [
    "class JokeState(TypedDict):\n",
    "    \n",
    "    topic: str \n",
    "    joke: str\n",
    "    explanation: str"
   ]
  },
  {
   "cell_type": "code",
   "execution_count": 27,
   "id": "3a530792",
   "metadata": {},
   "outputs": [],
   "source": [
    "def generate_joke(state: JokeState):\n",
    "    prompt = f\"generate a joke on the topic {state['topic']}\"\n",
    "    response = llm.invoke(prompt).content\n",
    "    return {'joke': response}"
   ]
  },
  {
   "cell_type": "code",
   "execution_count": 28,
   "id": "534bda68",
   "metadata": {},
   "outputs": [],
   "source": [
    "def generate_explanation(state:JokeState):\n",
    "    prompt = f\"write an explanation of the joke- {state['joke']}\"\n",
    "    response = llm.invoke(prompt).content\n",
    "    return {'explanation':response}"
   ]
  },
  {
   "cell_type": "code",
   "execution_count": 29,
   "id": "79a18c35",
   "metadata": {},
   "outputs": [],
   "source": [
    "graph = StateGraph(JokeState)\n",
    "\n",
    "#add nodes\n",
    "graph.add_node('generate_joke',generate_joke)\n",
    "graph.add_node('generate_explanation',generate_explanation)\n",
    "\n",
    "#add edges\n",
    "graph.add_edge(START, 'generate_joke')\n",
    "graph.add_edge('generate_joke', 'generate_explanation')\n",
    "graph.add_edge('generate_explanation', END)\n",
    "\n",
    "checkpointer  = InMemorySaver()\n",
    "\n",
    "workflow = graph.compile(checkpointer=checkpointer)\n"
   ]
  },
  {
   "cell_type": "code",
   "execution_count": 30,
   "id": "108f7564",
   "metadata": {},
   "outputs": [
    {
     "data": {
      "text/plain": [
       "{'topic': 'pizza',\n",
       " 'joke': 'Why did the pizza break up with the bread? \\n\\nBecause it said, \"You\\'re always crusting me out!\" 😂 \\n\\n---\\n\\nWould you like to hear another pizza joke?',\n",
       " 'explanation': 'Okay, let’s break down why that joke is funny!\\n\\nThe joke plays on the double meaning of the word \"crusting.\"\\n\\n*   **Literal Meaning:** Pizza is often topped with a crispy, golden-brown crust.\\n*   **Figurative Meaning:** \"Crusting me out\" is a playful way of saying \"you\\'re always disappointing me\" or “you’re always letting me down.”\\n\\nThe humor comes from the unexpected twist – a romantic breakup is described using a pizza-related term, making it silly and relatable.\\n\\n---\\n\\nYes, please! I’d love to hear another pizza joke. 😄'}"
      ]
     },
     "execution_count": 30,
     "metadata": {},
     "output_type": "execute_result"
    }
   ],
   "source": [
    "config1 = {'configurable': {'thread_id':'1'}}\n",
    "workflow.invoke({'topic':'pizza'}, config=config1)"
   ]
  },
  {
   "cell_type": "code",
   "execution_count": 31,
   "id": "0f3efa6f",
   "metadata": {},
   "outputs": [
    {
     "data": {
      "text/plain": [
       "StateSnapshot(values={'topic': 'pizza', 'joke': 'Why did the pizza break up with the bread? \\n\\nBecause it said, \"You\\'re always crusting me out!\" 😂 \\n\\n---\\n\\nWould you like to hear another pizza joke?', 'explanation': 'Okay, let’s break down why that joke is funny!\\n\\nThe joke plays on the double meaning of the word \"crusting.\"\\n\\n*   **Literal Meaning:** Pizza is often topped with a crispy, golden-brown crust.\\n*   **Figurative Meaning:** \"Crusting me out\" is a playful way of saying \"you\\'re always disappointing me\" or “you’re always letting me down.”\\n\\nThe humor comes from the unexpected twist – a romantic breakup is described using a pizza-related term, making it silly and relatable.\\n\\n---\\n\\nYes, please! I’d love to hear another pizza joke. 😄'}, next=(), config={'configurable': {'thread_id': '1', 'checkpoint_ns': '', 'checkpoint_id': '1f0744f9-be5a-608b-8002-a5581052cd47'}}, metadata={'source': 'loop', 'step': 2, 'parents': {}}, created_at='2025-08-08T12:02:51.524109+00:00', parent_config={'configurable': {'thread_id': '1', 'checkpoint_ns': '', 'checkpoint_id': '1f0744f9-2034-6d38-8001-f665e16079e4'}}, tasks=(), interrupts=())"
      ]
     },
     "execution_count": 31,
     "metadata": {},
     "output_type": "execute_result"
    }
   ],
   "source": [
    "workflow.get_state(config1)"
   ]
  },
  {
   "cell_type": "code",
   "execution_count": 32,
   "id": "ff7cd8d6",
   "metadata": {},
   "outputs": [
    {
     "data": {
      "text/plain": [
       "[StateSnapshot(values={'topic': 'pizza', 'joke': 'Why did the pizza break up with the bread? \\n\\nBecause it said, \"You\\'re always crusting me out!\" 😂 \\n\\n---\\n\\nWould you like to hear another pizza joke?', 'explanation': 'Okay, let’s break down why that joke is funny!\\n\\nThe joke plays on the double meaning of the word \"crusting.\"\\n\\n*   **Literal Meaning:** Pizza is often topped with a crispy, golden-brown crust.\\n*   **Figurative Meaning:** \"Crusting me out\" is a playful way of saying \"you\\'re always disappointing me\" or “you’re always letting me down.”\\n\\nThe humor comes from the unexpected twist – a romantic breakup is described using a pizza-related term, making it silly and relatable.\\n\\n---\\n\\nYes, please! I’d love to hear another pizza joke. 😄'}, next=(), config={'configurable': {'thread_id': '1', 'checkpoint_ns': '', 'checkpoint_id': '1f0744f9-be5a-608b-8002-a5581052cd47'}}, metadata={'source': 'loop', 'step': 2, 'parents': {}}, created_at='2025-08-08T12:02:51.524109+00:00', parent_config={'configurable': {'thread_id': '1', 'checkpoint_ns': '', 'checkpoint_id': '1f0744f9-2034-6d38-8001-f665e16079e4'}}, tasks=(), interrupts=()),\n",
       " StateSnapshot(values={'topic': 'pizza', 'joke': 'Why did the pizza break up with the bread? \\n\\nBecause it said, \"You\\'re always crusting me out!\" 😂 \\n\\n---\\n\\nWould you like to hear another pizza joke?'}, next=('generate_explanation',), config={'configurable': {'thread_id': '1', 'checkpoint_ns': '', 'checkpoint_id': '1f0744f9-2034-6d38-8001-f665e16079e4'}}, metadata={'source': 'loop', 'step': 1, 'parents': {}}, created_at='2025-08-08T12:02:34.941368+00:00', parent_config={'configurable': {'thread_id': '1', 'checkpoint_ns': '', 'checkpoint_id': '1f0744f8-d0f4-62a6-8000-02a7402517b0'}}, tasks=(PregelTask(id='7b19b889-c355-fbb3-1ea9-4c01dc291371', name='generate_explanation', path=('__pregel_pull', 'generate_explanation'), error=None, interrupts=(), state=None, result={'explanation': 'Okay, let’s break down why that joke is funny!\\n\\nThe joke plays on the double meaning of the word \"crusting.\"\\n\\n*   **Literal Meaning:** Pizza is often topped with a crispy, golden-brown crust.\\n*   **Figurative Meaning:** \"Crusting me out\" is a playful way of saying \"you\\'re always disappointing me\" or “you’re always letting me down.”\\n\\nThe humor comes from the unexpected twist – a romantic breakup is described using a pizza-related term, making it silly and relatable.\\n\\n---\\n\\nYes, please! I’d love to hear another pizza joke. 😄'}),), interrupts=()),\n",
       " StateSnapshot(values={'topic': 'pizza'}, next=('generate_joke',), config={'configurable': {'thread_id': '1', 'checkpoint_ns': '', 'checkpoint_id': '1f0744f8-d0f4-62a6-8000-02a7402517b0'}}, metadata={'source': 'loop', 'step': 0, 'parents': {}}, created_at='2025-08-08T12:02:26.631133+00:00', parent_config={'configurable': {'thread_id': '1', 'checkpoint_ns': '', 'checkpoint_id': '1f0744f8-d0e3-6108-bfff-bedd216c8e24'}}, tasks=(PregelTask(id='e445d00b-8239-1c64-5d1a-81bf4f2f4007', name='generate_joke', path=('__pregel_pull', 'generate_joke'), error=None, interrupts=(), state=None, result={'joke': 'Why did the pizza break up with the bread? \\n\\nBecause it said, \"You\\'re always crusting me out!\" 😂 \\n\\n---\\n\\nWould you like to hear another pizza joke?'}),), interrupts=()),\n",
       " StateSnapshot(values={}, next=('__start__',), config={'configurable': {'thread_id': '1', 'checkpoint_ns': '', 'checkpoint_id': '1f0744f8-d0e3-6108-bfff-bedd216c8e24'}}, metadata={'source': 'input', 'step': -1, 'parents': {}}, created_at='2025-08-08T12:02:26.624128+00:00', parent_config=None, tasks=(PregelTask(id='ec103738-f0b6-4161-a283-84daf0f4d6b8', name='__start__', path=('__pregel_pull', '__start__'), error=None, interrupts=(), state=None, result={'topic': 'pizza'}),), interrupts=())]"
      ]
     },
     "execution_count": 32,
     "metadata": {},
     "output_type": "execute_result"
    }
   ],
   "source": [
    "list(workflow.get_state_history(config1))"
   ]
  },
  {
   "cell_type": "code",
   "execution_count": 33,
   "id": "29194ccd",
   "metadata": {},
   "outputs": [
    {
     "data": {
      "text/plain": [
       "{'topic': 'pasta',\n",
       " 'joke': 'Why did the spaghetti break up with the ravioli? \\n\\n... Because it said, \"You\\'re too cheesy!\" 😄 \\n\\n---\\n\\nWould you like to hear another pasta joke?',\n",
       " 'explanation': \"Okay, let's break down the joke:\\n\\n“Why did the spaghetti break up with the ravioli? Because it said, ‘You’re too cheesy!’”\\n\\n**The humor lies in a play on words and a common association.**\\n\\n* **“Cheesy”** – Normally, “cheesy” describes a personality trait – someone overly sentimental, gooey, or a bit dramatic.\\n* **Ravioli & Cheese:** Ravioli is almost always stuffed with cheese, and that cheese is a key part of what makes ravioli, well, ravioli! \\n\\nThe joke takes this literal association and uses “cheesy” in a way that’s unexpected and a little silly. It’s a lighthearted jab at the ravioli's abundance of cheese. 😄\\n\\n---\\n\\nAnd yes, absolutely! Would you like to hear another pasta joke?\"}"
      ]
     },
     "execution_count": 33,
     "metadata": {},
     "output_type": "execute_result"
    }
   ],
   "source": [
    "config2 = {'configurable': {'thread_id': '2'}}\n",
    "workflow.invoke({'topic':'pasta'}, config=config2)"
   ]
  }
 ],
 "metadata": {
  "kernelspec": {
   "display_name": "myenv",
   "language": "python",
   "name": "python3"
  },
  "language_info": {
   "codemirror_mode": {
    "name": "ipython",
    "version": 3
   },
   "file_extension": ".py",
   "mimetype": "text/x-python",
   "name": "python",
   "nbconvert_exporter": "python",
   "pygments_lexer": "ipython3",
   "version": "3.11.4"
  }
 },
 "nbformat": 4,
 "nbformat_minor": 5
}
