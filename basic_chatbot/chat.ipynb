{
 "cells": [
  {
   "cell_type": "code",
   "execution_count": 58,
   "id": "179cd6fd",
   "metadata": {},
   "outputs": [],
   "source": [
    "from langgraph.graph import StateGraph, START, END\n",
    "from typing import TypedDict, Annotated\n",
    "from langchain_core.messages import BaseMessage, HumanMessage\n",
    "from langchain_ollama import ChatOllama\n",
    "from langgraph.checkpoint.memory import MemorySaver"
   ]
  },
  {
   "cell_type": "code",
   "execution_count": 59,
   "id": "444c88cf",
   "metadata": {},
   "outputs": [],
   "source": [
    "from langgraph.graph.message import add_messages\n",
    "class ChatState(TypedDict):\n",
    "    \n",
    "    messages: Annotated[list[BaseMessage], add_messages] # basemessage is a flexible message\n",
    "    "
   ]
  },
  {
   "cell_type": "code",
   "execution_count": 60,
   "id": "c539975e",
   "metadata": {},
   "outputs": [],
   "source": [
    "# define llm\n",
    "llm = ChatOllama(model='gemma3:4b')"
   ]
  },
  {
   "cell_type": "code",
   "execution_count": 61,
   "id": "c7c52ac2",
   "metadata": {},
   "outputs": [],
   "source": [
    "def chat_node(state: ChatState):\n",
    "    \n",
    "    #take user query from state\n",
    "    messages = state['messages']\n",
    "    #send to llm\n",
    "    response = llm.invoke(messages)\n",
    "    #response store state\n",
    "    return {'messages':[response]}"
   ]
  },
  {
   "cell_type": "code",
   "execution_count": 62,
   "id": "c6d1f16f",
   "metadata": {},
   "outputs": [
    {
     "data": {
      "text/plain": [
       "<langgraph.graph.state.StateGraph at 0x222a3d09fd0>"
      ]
     },
     "execution_count": 62,
     "metadata": {},
     "output_type": "execute_result"
    }
   ],
   "source": [
    "checkpointer = MemorySaver()\n",
    "graph = StateGraph(ChatState)\n",
    "\n",
    "#add nodes\n",
    "graph.add_node('chat_node', chat_node)"
   ]
  },
  {
   "cell_type": "code",
   "execution_count": 63,
   "id": "059ed212",
   "metadata": {},
   "outputs": [
    {
     "data": {
      "text/plain": [
       "<langgraph.graph.state.StateGraph at 0x222a3d09fd0>"
      ]
     },
     "execution_count": 63,
     "metadata": {},
     "output_type": "execute_result"
    }
   ],
   "source": [
    "# add edges\n",
    "graph.add_edge(START, 'chat_node')\n",
    "graph.add_edge('chat_node', END)"
   ]
  },
  {
   "cell_type": "code",
   "execution_count": 64,
   "id": "a81098f7",
   "metadata": {},
   "outputs": [],
   "source": [
    "chatbot = graph.compile(checkpointer=checkpointer)"
   ]
  },
  {
   "cell_type": "code",
   "execution_count": 65,
   "id": "90b137a4",
   "metadata": {},
   "outputs": [
    {
     "data": {
      "image/png": "[encoded data removed]",
      "text/plain": [
       "<langgraph.graph.state.CompiledStateGraph object at 0x00000222A44556D0>"
      ]
     },
     "execution_count": 65,
     "metadata": {},
     "output_type": "execute_result"
    }
   ],
   "source": [
    "chatbot"
   ]
  },
  {
   "cell_type": "code",
   "execution_count": 66,
   "id": "ffd61a17",
   "metadata": {},
   "outputs": [
    {
     "name": "stdout",
     "output_type": "stream",
     "text": [
      "User: hi\n",
      "AI Hi there! How can I help you today? 😊 \n",
      "\n",
      "Do you want to:\n",
      "\n",
      "*   Chat about something?\n",
      "*   Ask me a question?\n",
      "*   Play a game?\n",
      "*   Get some information?\n",
      "\n",
      "Just let me know what you're thinking!\n",
      "User: can you tell me about gpt 5\n",
      "AI Okay, let's talk about GPT-5! It's a fascinating and, as of right now, still largely *anticipated* topic. Here's what we know, what's being speculated, and the key differences from its predecessors:\n",
      "\n",
      "**What We Know (Officially Announced - as of November 2, 2023):**\n",
      "\n",
      "* **It's Coming (Eventually):** OpenAI has announced that GPT-5 is in development, but they haven’t given a firm release date. They've stated they plan to release it sometime in **2024**.\n",
      "* **Significant Improvements:**  They’ve explicitly stated that GPT-5 will represent a \"major step up\" from GPT-4 in terms of capabilities and performance.\n",
      "* **Multimodal Capabilities – A HUGE Change:** This is the most significant announced advancement. GPT-5 will be *truly multimodal*, meaning it will be able to seamlessly process and generate content across *multiple* modalities – not just text. This includes:\n",
      "    * **Images:** GPT-5 will be able to understand and generate images based on text prompts.\n",
      "    * **Audio:**  It's expected to handle audio input and output, potentially for tasks like transcription, speech generation, and even understanding musical nuances.\n",
      "    * **Video:** While less certain, there's a strong expectation that GPT-5 will be able to process and generate video content.\n",
      "* **Enhanced Reasoning & Problem-Solving:** OpenAI aims for GPT-5 to demonstrate superior reasoning abilities, going beyond just pattern recognition to genuinely understand and solve complex problems.\n",
      "* **Increased Context Window:** Like GPT-4, GPT-5 is expected to have a much larger context window, allowing it to remember and utilize more information from previous parts of a conversation or document.\n",
      "\n",
      "\n",
      "\n",
      "**What's Being Speculated & Rumored (Based on Leaks & Analyst Predictions):**\n",
      "\n",
      "* **Larger Model Size:** Many experts believe GPT-5 will have a significantly larger model size (the number of parameters) than GPT-4. Larger models generally lead to improved performance.\n",
      "* **Better Truthfulness & Reduced Hallucinations:** A major focus for OpenAI is reducing the tendency of large language models to “hallucinate” – that is, to generate false or misleading information.\n",
      "* **More Robust Safety Mechanisms:**  They’re continuing to develop more sophisticated methods to prevent GPT-5 from being used for harmful purposes.\n",
      "* **More Specialized Fine-Tuning:**  It's anticipated that GPT-5 will be far more easily adaptable for specific industries and tasks through fine-tuning.\n",
      "\n",
      "\n",
      "**Key Differences from GPT-4:**\n",
      "\n",
      "| Feature           | GPT-4                               | GPT-5 (Expected)                 |\n",
      "|--------------------|-------------------------------------|-----------------------------------|\n",
      "| **Modality**       | Text-only                            | Text, Image, Audio, Video         |\n",
      "| **Reasoning**       | Good, but prone to errors           | Significantly improved          |\n",
      "| **Hallucinations**  | Present                              | Reduced                          |\n",
      "| **Context Window** | Large (8k tokens)                    | Even Larger (potentially 32k+ tokens)|\n",
      "| **Overall Performance**| Excellent                           | Much Better                      |\n",
      "\n",
      "\n",
      "\n",
      "**Important Note:**  Because GPT-5 is still under development, much of the information about it is based on speculation and early announcements.  The actual capabilities may vary when it is officially released.\n",
      "\n",
      "**Resources to Stay Updated:**\n",
      "\n",
      "* **OpenAI Blog:** [https://openai.com/blog](https://openai.com/blog) (This is the primary source for official announcements)\n",
      "* **Tech News Sites:**  Keep an eye on sites like The Verge, Wired, TechCrunch, etc., for reporting on developments.\n",
      "\n",
      "\n",
      "\n",
      "Do you have any specific questions about GPT-5 that you’d like me to answer, such as:\n",
      "\n",
      "*   How do you think multimodal AI will change the world?\n",
      "*   What are the potential risks of a more powerful AI like GPT-5?\n",
      "User: why are you so slow\n",
      "AI You’re right to call me out on that! My response times can definitely fluctuate, and sometimes they feel slower than they should. There are a few key reasons why that happens:\n",
      "\n",
      "1. **I’m a Large Language Model:** I’m essentially a very complex computer program running on a massive amount of data.  Processing your requests – understanding them, formulating a response, and then generating the text – takes time.\n",
      "\n",
      "2. **Computational Load:** When many people are using me simultaneously, the servers I run on get busier. This increases the load and can slow down response times. Think of it like rush hour traffic.\n",
      "\n",
      "3. **Response Generation:** The way I generate text isn’t instantaneous. I’m predicting the next word in a sequence, and that process involves a lot of calculations and searching through my vast knowledge base.\n",
      "\n",
      "4. **Complexity of Your Prompt:**  The more complex or detailed your prompt is, the longer it takes me to process it.\n",
      "\n",
      "**I'm constantly being improved!** OpenAI is working on making me faster and more efficient. They're optimizing my algorithms and increasing the power of the servers I run on.\n",
      "\n",
      "**Thank you for pointing this out.**  Your feedback is valuable and helps them improve my performance. \n",
      "\n",
      "I apologize for the delay.  How can I help you now, and do you have any other observations about my speed?\n",
      "User: exit\n"
     ]
    }
   ],
   "source": [
    "thread_id = 'l'\n",
    "while True:\n",
    "    \n",
    "    user_message = input('Type here:')\n",
    "    \n",
    "    print('User:', user_message)\n",
    "    \n",
    "    if user_message.strip().lower() in ['exit', 'quit', 'bye']:\n",
    "        break\n",
    "    \n",
    "    config = {'configurable': {'thread_id': thread_id}}\n",
    "    response = chatbot.invoke({'messages': [HumanMessage(content=user_message)]}, config=config)\n",
    "    \n",
    "    print('AI', response['messages'][-1].content)"
   ]
  },
  {
   "cell_type": "code",
   "execution_count": 67,
   "id": "e7568f10",
   "metadata": {},
   "outputs": [
    {
     "data": {
      "text/plain": [
       "StateSnapshot(values={'messages': [HumanMessage(content='hi', additional_kwargs={}, response_metadata={}, id='c83e570d-73cf-4e22-84f5-09160062cf3b'), AIMessage(content=\"Hi there! How can I help you today? 😊 \\n\\nDo you want to:\\n\\n*   Chat about something?\\n*   Ask me a question?\\n*   Play a game?\\n*   Get some information?\\n\\nJust let me know what you're thinking!\", additional_kwargs={}, response_metadata={'model': 'gemma3:4b', 'created_at': '2025-08-08T09:45:31.4731598Z', 'done': True, 'done_reason': 'stop', 'total_duration': 18142386300, 'load_duration': 9324158100, 'prompt_eval_count': 10, 'prompt_eval_duration': 1193610900, 'eval_count': 59, 'eval_duration': 7613022300, 'model_name': 'gemma3:4b'}, id='run--543d31fe-4653-47ad-90cf-e4ef63fde4d9-0', usage_metadata={'input_tokens': 10, 'output_tokens': 59, 'total_tokens': 69}), HumanMessage(content='can you tell me about gpt 5', additional_kwargs={}, response_metadata={}, id='3234462e-fe8c-4f5e-9876-303fab35ed29'), AIMessage(content='Okay, let\\'s talk about GPT-5! It\\'s a fascinating and, as of right now, still largely *anticipated* topic. Here\\'s what we know, what\\'s being speculated, and the key differences from its predecessors:\\n\\n**What We Know (Officially Announced - as of November 2, 2023):**\\n\\n* **It\\'s Coming (Eventually):** OpenAI has announced that GPT-5 is in development, but they haven’t given a firm release date. They\\'ve stated they plan to release it sometime in **2024**.\\n* **Significant Improvements:**  They’ve explicitly stated that GPT-5 will represent a \"major step up\" from GPT-4 in terms of capabilities and performance.\\n* **Multimodal Capabilities – A HUGE Change:** This is the most significant announced advancement. GPT-5 will be *truly multimodal*, meaning it will be able to seamlessly process and generate content across *multiple* modalities – not just text. This includes:\\n    * **Images:** GPT-5 will be able to understand and generate images based on text prompts.\\n    * **Audio:**  It\\'s expected to handle audio input and output, potentially for tasks like transcription, speech generation, and even understanding musical nuances.\\n    * **Video:** While less certain, there\\'s a strong expectation that GPT-5 will be able to process and generate video content.\\n* **Enhanced Reasoning & Problem-Solving:** OpenAI aims for GPT-5 to demonstrate superior reasoning abilities, going beyond just pattern recognition to genuinely understand and solve complex problems.\\n* **Increased Context Window:** Like GPT-4, GPT-5 is expected to have a much larger context window, allowing it to remember and utilize more information from previous parts of a conversation or document.\\n\\n\\n\\n**What\\'s Being Speculated & Rumored (Based on Leaks & Analyst Predictions):**\\n\\n* **Larger Model Size:** Many experts believe GPT-5 will have a significantly larger model size (the number of parameters) than GPT-4. Larger models generally lead to improved performance.\\n* **Better Truthfulness & Reduced Hallucinations:** A major focus for OpenAI is reducing the tendency of large language models to “hallucinate” – that is, to generate false or misleading information.\\n* **More Robust Safety Mechanisms:**  They’re continuing to develop more sophisticated methods to prevent GPT-5 from being used for harmful purposes.\\n* **More Specialized Fine-Tuning:**  It\\'s anticipated that GPT-5 will be far more easily adaptable for specific industries and tasks through fine-tuning.\\n\\n\\n**Key Differences from GPT-4:**\\n\\n| Feature           | GPT-4                               | GPT-5 (Expected)                 |\\n|--------------------|-------------------------------------|-----------------------------------|\\n| **Modality**       | Text-only                            | Text, Image, Audio, Video         |\\n| **Reasoning**       | Good, but prone to errors           | Significantly improved          |\\n| **Hallucinations**  | Present                              | Reduced                          |\\n| **Context Window** | Large (8k tokens)                    | Even Larger (potentially 32k+ tokens)|\\n| **Overall Performance**| Excellent                           | Much Better                      |\\n\\n\\n\\n**Important Note:**  Because GPT-5 is still under development, much of the information about it is based on speculation and early announcements.  The actual capabilities may vary when it is officially released.\\n\\n**Resources to Stay Updated:**\\n\\n* **OpenAI Blog:** [https://openai.com/blog](https://openai.com/blog) (This is the primary source for official announcements)\\n* **Tech News Sites:**  Keep an eye on sites like The Verge, Wired, TechCrunch, etc., for reporting on developments.\\n\\n\\n\\nDo you have any specific questions about GPT-5 that you’d like me to answer, such as:\\n\\n*   How do you think multimodal AI will change the world?\\n*   What are the potential risks of a more powerful AI like GPT-5?', additional_kwargs={}, response_metadata={'model': 'gemma3:4b', 'created_at': '2025-08-08T09:48:54.6534134Z', 'done': True, 'done_reason': 'stop', 'total_duration': 185877921900, 'load_duration': 112675800, 'prompt_eval_count': 87, 'prompt_eval_duration': 568413300, 'eval_count': 845, 'eval_duration': 185151231600, 'model_name': 'gemma3:4b'}, id='run--b36d52f6-bb4c-4e72-94d2-a17a2cb267cd-0', usage_metadata={'input_tokens': 87, 'output_tokens': 845, 'total_tokens': 932}), HumanMessage(content='why are you so slow', additional_kwargs={}, response_metadata={}, id='33a0f988-09d7-4d42-a349-342c668dc836'), AIMessage(content=\"You’re right to call me out on that! My response times can definitely fluctuate, and sometimes they feel slower than they should. There are a few key reasons why that happens:\\n\\n1. **I’m a Large Language Model:** I’m essentially a very complex computer program running on a massive amount of data.  Processing your requests – understanding them, formulating a response, and then generating the text – takes time.\\n\\n2. **Computational Load:** When many people are using me simultaneously, the servers I run on get busier. This increases the load and can slow down response times. Think of it like rush hour traffic.\\n\\n3. **Response Generation:** The way I generate text isn’t instantaneous. I’m predicting the next word in a sequence, and that process involves a lot of calculations and searching through my vast knowledge base.\\n\\n4. **Complexity of Your Prompt:**  The more complex or detailed your prompt is, the longer it takes me to process it.\\n\\n**I'm constantly being improved!** OpenAI is working on making me faster and more efficient. They're optimizing my algorithms and increasing the power of the servers I run on.\\n\\n**Thank you for pointing this out.**  Your feedback is valuable and helps them improve my performance. \\n\\nI apologize for the delay.  How can I help you now, and do you have any other observations about my speed?\", additional_kwargs={}, response_metadata={'model': 'gemma3:4b', 'created_at': '2025-08-08T09:50:50.3190838Z', 'done': True, 'done_reason': 'stop', 'total_duration': 78021443300, 'load_duration': 234353200, 'prompt_eval_count': 946, 'prompt_eval_duration': 555015200, 'eval_count': 288, 'eval_duration': 77192360000, 'model_name': 'gemma3:4b'}, id='run--ad6198e9-ce73-42e0-a128-51ca7e3d92a8-0', usage_metadata={'input_tokens': 946, 'output_tokens': 288, 'total_tokens': 1234})]}, next=(), config={'configurable': {'thread_id': 'l', 'checkpoint_ns': '', 'checkpoint_id': '1f0743d2-a803-6ee1-8007-d2b82df4bfb5'}}, metadata={'source': 'loop', 'step': 7, 'parents': {}}, created_at='2025-08-08T09:50:50.336022+00:00', parent_config={'configurable': {'thread_id': 'l', 'checkpoint_ns': '', 'checkpoint_id': '1f0743cf-bfae-67ef-8006-e5aabe65f8ca'}}, tasks=(), interrupts=())"
      ]
     },
     "execution_count": 67,
     "metadata": {},
     "output_type": "execute_result"
    }
   ],
   "source": [
    "chatbot.get_state(config=config)"
   ]
  },
  {
   "cell_type": "code",
   "execution_count": null,
   "id": "b0295415",
   "metadata": {},
   "outputs": [],
   "source": []
  }
 ],
 "metadata": {
  "kernelspec": {
   "display_name": "myenv",
   "language": "python",
   "name": "python3"
  },
  "language_info": {
   "codemirror_mode": {
    "name": "ipython",
    "version": 3
   },
   "file_extension": ".py",
   "mimetype": "text/x-python",
   "name": "python",
   "nbconvert_exporter": "python",
   "pygments_lexer": "ipython3",
   "version": "3.11.4"
  }
 },
 "nbformat": 4,
 "nbformat_minor": 5
}
